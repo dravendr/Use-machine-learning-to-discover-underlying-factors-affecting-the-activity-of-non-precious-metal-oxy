{
 "cells": [
  {
   "cell_type": "code",
   "execution_count": null,
   "metadata": {},
   "outputs": [],
   "source": [
    "###########import packages##########\n",
    "import pandas as pd\n",
    "import matplotlib.pyplot as plt\n",
    "import numpy as np\n",
    "import tensorflow as tf \n",
    "import xgboost as xgb\n",
    "from sklearn.model_selection import GridSearchCV\n",
    "from xgboost import plot_importance\n",
    "from xgboost import XGBClassifier\n",
    "from sklearn.model_selection import train_test_split\n",
    "from sklearn.metrics import accuracy_score\n",
    "from sklearn.metrics import classification_report\n",
    "%matplotlib\n",
    "###########loading data##########\n",
    "fdata=pd.read_csv('database_filled.csv',encoding=\"gbk\")\n",
    "raw_data=fdata.loc[:,[                     \n",
    "                      'Zn Content (wt. %)',#0\n",
    "                      'Co Cotent (wt. %)',#1\n",
    "                      'Fe Cotent (wt. %)',#2\n",
    "                      'O Content (at. %)',#4\n",
    "                      'S Content (at. %)',#5\n",
    "                      'Content of Pyridinic Species (at. %)',#5\n",
    "                      'Content of Graphitic Species (at. %)',#6\n",
    "                      'Content of Oxidized Species (at. %)',#7\n",
    "                      'Raman ID/IG Ratio',#8\n",
    "                      'BET Surface Area (m2 g-1)',#9\n",
    "                      'Micropore Ratio',#10\n",
    "                      'Mesopore Ratio',#11\n",
    "                      'Catalyst Loading on RDE/RRDE(mg cm-2)',#12\n",
    "                      'Rotating Speed (rpm)',#13\n",
    "    \n",
    "                      'Fe Precursor Ratio',#14\n",
    "                      'Zn Precursor Ratio',#15\n",
    "                      '2-Methylimidazole Precursor Ratio',#16\n",
    "                      'Additive (Other) Precursor Ratio',#17\n",
    "                      'ZIF Preparation Temperature (℃)',#18\n",
    "                      'ZIF Preparation Time (h)',#19\n",
    "                      'One-Pot Method',#20\n",
    "                      'Post-Adsorb Method',#21\n",
    "                      'Carbon-Derivative Adsorb Method',#22\n",
    "                      'Pyrolysis Temperature (℃)',#23\n",
    "                      'Pyrolysis Time (h)',#24\n",
    "                      'Temperature Rising Rate (℃ min-1)',#25\n",
    "                      'Seconde Pyrolysis',#26\n",
    "                      'Acid Wash'#27\n",
    "                        ]]"
   ]
  },
  {
   "cell_type": "code",
   "execution_count": null,
   "metadata": {},
   "outputs": [],
   "source": [
    "print(np.mean(raw_data))\n",
    "print(np.std(raw_data))"
   ]
  },
  {
   "cell_type": "code",
   "execution_count": null,
   "metadata": {},
   "outputs": [],
   "source": [
    "mat=raw_data.corr(method='spearman')#kendall #pearson\n",
    "print(type(mat))"
   ]
  },
  {
   "cell_type": "code",
   "execution_count": null,
   "metadata": {},
   "outputs": [],
   "source": [
    "import seaborn as sns\n",
    "import numpy as np\n",
    "import pandas as pd\n",
    "import matplotlib.pyplot as plt\n",
    "f, ax= plt.subplots(figsize = (14, 10))\n",
    "sns.set(font_scale=0.55)\n",
    "sns.heatmap(mat, \n",
    "                annot=True, vmax=1,vmin = 0, xticklabels= True, yticklabels= True, square=True, cmap=\"gist_heat_r\")"
   ]
  },
  {
   "cell_type": "code",
   "execution_count": null,
   "metadata": {},
   "outputs": [],
   "source": [
    "chemical_properies=raw_data.iloc[:,0:15]\n",
    "synthesis=raw_data.iloc[:,15:29]"
   ]
  },
  {
   "cell_type": "code",
   "execution_count": null,
   "metadata": {},
   "outputs": [],
   "source": [
    "CL_78=fdata.loc[:,[                     \n",
    "                      'HW_0.78'\n",
    "]]\n",
    "CL_80=fdata.loc[:,[                     \n",
    "                      'HW_0.8'\n",
    "]]\n",
    "CL_82=fdata.loc[:,[                     \n",
    "                      'HW_0.82'\n",
    "]]\n",
    "CL_003=fdata.loc[:,[                     \n",
    "                      'PYMT_0.03'\n",
    "]]\n",
    "CL_002=fdata.loc[:,[                     \n",
    "                      'PYMT_0.02'\n",
    "]]"
   ]
  },
  {
   "cell_type": "code",
   "execution_count": null,
   "metadata": {},
   "outputs": [],
   "source": [
    "def summarize(list1):\n",
    "    total=0\n",
    "    for ele in range(0, len(list1)):\n",
    "        total = total + list1[ele]\n",
    "    return total\n",
    "from sklearn.decomposition import PCA"
   ]
  },
  {
   "cell_type": "code",
   "execution_count": null,
   "metadata": {},
   "outputs": [],
   "source": [
    "pca_chem_3 = PCA(n_components=3)\n",
    "chem_3 = pca_chem_3.fit_transform(chemical_properies)     \n",
    "print(pca_chem_3.explained_variance_ratio_)\n",
    "\n",
    "pca_synthesis_3 = PCA(n_components=3)\n",
    "synthesis_3 = pca_synthesis_3.fit_transform(synthesis)   \n",
    "print(pca_synthesis_3.explained_variance_ratio_)\n",
    "\n",
    "rpca_chem_3 = PCA(n_components=3,svd_solver='randomized')\n",
    "chem_3_r = rpca_chem_3.fit_transform(chemical_properies)    \n",
    "print(rpca_chem_3.explained_variance_ratio_)\n",
    "\n",
    "rpca_synthesis_3 = PCA(n_components=3,svd_solver='randomized')\n",
    "synthesis_3_r = rpca_synthesis_3.fit_transform(synthesis)     \n",
    "print(rpca_synthesis_3.explained_variance_ratio_)\n",
    "\n",
    "pca_chem_2 = PCA(n_components=2)\n",
    "chem_2 = pca_chem_2.fit_transform(chemical_properies)     \n",
    "print(pca_chem_2.explained_variance_ratio_)\n",
    "\n",
    "pca_synthesis_2 = PCA(n_components=2)\n",
    "synthesis_2 = pca_synthesis_2.fit_transform(synthesis)   \n",
    "print(pca_synthesis_2.explained_variance_ratio_)\n",
    "\n",
    "rpca_chem_2 = PCA(n_components=2,svd_solver='randomized')\n",
    "chem_2_r = rpca_chem_2.fit_transform(chemical_properies)    \n",
    "print(rpca_chem_2.explained_variance_ratio_)\n",
    "\n",
    "rpca_synthesis_2 = PCA(n_components=2,svd_solver='randomized')\n",
    "synthesis_2_r = rpca_synthesis_2.fit_transform(synthesis)     \n",
    "print(rpca_synthesis_2.explained_variance_ratio_)\n",
    "\n",
    "\n",
    "\n",
    "print(summarize(pca_chem_3.explained_variance_ratio_))\n",
    "print(summarize(pca_synthesis_3.explained_variance_ratio_))\n",
    "print(summarize(rpca_chem_3.explained_variance_ratio_))\n",
    "print(summarize(rpca_synthesis_3.explained_variance_ratio_))\n",
    "\n",
    "print(summarize(pca_chem_2.explained_variance_ratio_))\n",
    "print(summarize(pca_synthesis_2.explained_variance_ratio_))\n",
    "print(summarize(rpca_chem_2.explained_variance_ratio_))\n",
    "print(summarize(rpca_synthesis_2.explained_variance_ratio_))"
   ]
  },
  {
   "cell_type": "code",
   "execution_count": null,
   "metadata": {},
   "outputs": [],
   "source": [
    "from mpl_toolkits.mplot3d import Axes3D\n",
    "def plot_3d_PCA(dataset,classification_result):\n",
    "    cl=classification_result.values[:,0]\n",
    "    colors = ['red', 'blue']\n",
    "    # 根据主成分分析结果绘制散点图\n",
    "    fig=plt.figure()\n",
    "    ax=Axes3D(fig)\n",
    "    for i in range(len(colors)):\n",
    "        x = dataset[:, 0][cl == i]\n",
    "        y = dataset[:, 1][cl == i]\n",
    "        z = dataset[:, 2][cl == i]\n",
    "        ax.scatter(x,y,z,c=colors[i])\n",
    "        ax.set_zlabel('Third Principal Component')\n",
    "    # 设置图例，0-9用不同颜色表示\n",
    "    plt.legend(np.array([0,1]), bbox_to_anchor=(1.05, 1), loc=2, borderaxespad=0.)\n",
    "    # 设置坐标标签\n",
    "    plt.xlabel('First Principal Component')\n",
    "    plt.ylabel('Second Principal Component')\n",
    "    # 设置标题\n",
    "    plt.title(\"PCA Scatter Plot\")\n",
    "    plt.show()\n",
    "def plot_2d_PCA(dataset,classification_result):\n",
    "    cl=classification_result.values[:,0]\n",
    "    colors = ['red', 'blue']\n",
    "    # 根据主成分分析结果绘制散点图\n",
    "    fig=plt.figure()\n",
    "    for i in range(len(colors)):\n",
    "        x = dataset[:, 0][cl == i]\n",
    "        y = dataset[:, 1][cl == i]\n",
    "        plt.scatter(x,y,c=colors[i])\n",
    "    # 设置图例，0-9用不同颜色表示\n",
    "    plt.legend(np.array([0,1]), bbox_to_anchor=(1.05, 1), loc=2, borderaxespad=0.)\n",
    "    # 设置坐标标签\n",
    "    plt.xlabel('First Principal Component')\n",
    "    plt.ylabel('Second Principal Component')\n",
    "    # 设置标题\n",
    "    plt.title(\"PCA Scatter Plot\")\n",
    "    # 显示图形\n",
    "    plt.show()"
   ]
  },
  {
   "cell_type": "code",
   "execution_count": null,
   "metadata": {},
   "outputs": [],
   "source": [
    "plot_3d_PCA(chem_3,CL_78)\n",
    "plot_3d_PCA(chem_3,CL_80)\n",
    "plot_3d_PCA(chem_3,CL_82)"
   ]
  },
  {
   "cell_type": "code",
   "execution_count": null,
   "metadata": {},
   "outputs": [],
   "source": [
    "plot_3d_PCA(chem_3_r,CL_78)\n",
    "plot_3d_PCA(chem_3_r,CL_80)\n",
    "plot_3d_PCA(chem_3_r,CL_82)"
   ]
  },
  {
   "cell_type": "code",
   "execution_count": null,
   "metadata": {},
   "outputs": [],
   "source": [
    "plot_3d_PCA(synthesis_3,CL_003)\n",
    "plot_3d_PCA(synthesis_3,CL_002)"
   ]
  },
  {
   "cell_type": "code",
   "execution_count": null,
   "metadata": {},
   "outputs": [],
   "source": [
    "plot_3d_PCA(synthesis_3_r,CL_003)\n",
    "plot_3d_PCA(synthesis_3_r,CL_002)"
   ]
  },
  {
   "cell_type": "code",
   "execution_count": null,
   "metadata": {},
   "outputs": [],
   "source": [
    "plot_2d_PCA(chem_3,CL_78)\n",
    "plot_2d_PCA(chem_3,CL_80)\n",
    "plot_2d_PCA(chem_3,CL_82)"
   ]
  },
  {
   "cell_type": "code",
   "execution_count": null,
   "metadata": {},
   "outputs": [],
   "source": [
    "plot_2d_PCA(chem_3_r,CL_78)\n",
    "plot_2d_PCA(chem_3_r,CL_80)\n",
    "plot_2d_PCA(chem_3_r,CL_82)"
   ]
  },
  {
   "cell_type": "code",
   "execution_count": null,
   "metadata": {},
   "outputs": [],
   "source": [
    "plot_2d_PCA(synthesis_3,CL_003)\n",
    "plot_2d_PCA(synthesis_3,CL_002)"
   ]
  },
  {
   "cell_type": "code",
   "execution_count": null,
   "metadata": {},
   "outputs": [],
   "source": [
    "plot_2d_PCA(synthesis_3_r,CL_003)\n",
    "plot_2d_PCA(synthesis_3_r,CL_002)"
   ]
  }
 ],
 "metadata": {
  "kernelspec": {
   "display_name": "Python 3",
   "language": "python",
   "name": "python3"
  },
  "language_info": {
   "codemirror_mode": {
    "name": "ipython",
    "version": 3
   },
   "file_extension": ".py",
   "mimetype": "text/x-python",
   "name": "python",
   "nbconvert_exporter": "python",
   "pygments_lexer": "ipython3",
   "version": "3.7.6"
  }
 },
 "nbformat": 4,
 "nbformat_minor": 4
}
