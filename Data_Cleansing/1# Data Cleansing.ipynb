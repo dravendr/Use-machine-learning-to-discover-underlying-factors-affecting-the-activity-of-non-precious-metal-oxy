{
 "cells": [
  {
   "cell_type": "code",
   "execution_count": 9,
   "metadata": {},
   "outputs": [
    {
     "name": "stdout",
     "output_type": "stream",
     "text": [
      "<class 'pandas.core.frame.DataFrame'>\n"
     ]
    }
   ],
   "source": [
    "###########import packages##########\n",
    "import pandas as pd\n",
    "import matplotlib.pyplot as plt\n",
    "import numpy as np\n",
    "import catboost\n",
    "import lightgbm\n",
    "from catboost import CatBoostRegressor\n",
    "from sklearn.ensemble import RandomForestRegressor\n",
    "from sklearn.model_selection import GridSearchCV\n",
    "from xgboost import plot_importance\n",
    "from xgboost import XGBClassifier,XGBRegressor\n",
    "from sklearn.model_selection import train_test_split\n",
    "from sklearn.metrics import accuracy_score\n",
    "from sklearn.metrics import classification_report\n",
    "from sklearn import ensemble\n",
    "from sklearn.tree import ExtraTreeRegressor\n",
    "from sklearn import svm\n",
    "from sklearn import neighbors\n",
    "from sklearn import tree\n",
    "from sklearn.impute import SimpleImputer\n",
    "from fancyimpute import KNN,IterativeImputer\n",
    "%matplotlib inline\n",
    "###########loading data##########\n",
    "fdata=pd.read_csv('database_unfilled.csv',encoding=\"gbk\")\n",
    "raw_data=fdata.loc[:,[\n",
    "                      'Zn Content (wt. %)',#0\n",
    "                      'Co Cotent (wt. %)',#1\n",
    "                      'Fe Cotent (wt. %)',#2\n",
    "                      'N Content (at. %)',#3\n",
    "                      'O Content (at. %)',#4\n",
    "                      'S Content (at. %)',#5\n",
    "                      'Pyridinic Ratio',#6\n",
    "                      'Pyrrolic Ratio',#7\n",
    "                      'Graphitic Ratio',#8\n",
    "                      'Oxidized Ratio',#9\n",
    "                      'Raman ID/IG Ratio',#10\n",
    "                      'BET Surface Area (m2 g-1)',#11  \n",
    "                      'Micropore Ratio',#12\n",
    "                      'Mesopore Ratio',#13\n",
    "                      'Catalyst Loading on RDE/RRDE(mg cm-2)',#14    \n",
    "                      'Fe Precursor Ratio',#0\n",
    "                      'Zn Precursor Ratio',#1\n",
    "                      '2-Methylimidazole Precursor Ratio',#2\n",
    "                      'Additive (Other) Precursor Ratio',#3\n",
    "                      'ZIF Preparation Temperature (℃)',#4\n",
    "                      'ZIF Preparation Time (h)',#5\n",
    "                      'One-Pot Method',#6\n",
    "                      'Post-Adsorb Method',#7\n",
    "                      'Carbon-Derivative Adsorb Method',#8\n",
    "                      'Pyrolysis Temperature (℃)',#9\n",
    "                      'Pyrolysis Time (h)',#10\n",
    "                      'Temperature Rising Rate (℃ min-1)',#11\n",
    "                      'Seconde Pyrolysis',#12\n",
    "                      'Acid Wash'#13\n",
    "                        ]]\n",
    "print(type(raw_data))\n",
    "filled = IterativeImputer(estimator=CatBoostRegressor(verbose=0),initial_strategy='mean',max_iter=10, tol=0.001).fit_transform(raw_data)\n",
    "df_filled=pd.DataFrame(filled)\n",
    "\n",
    "df_filled.to_csv('C:\\\\Users\\\\Administratro\\\\code zif\\\\chemical_properties_iterativeimputer_filled.csv',index=False,header=False)"
   ]
  },
  {
   "cell_type": "code",
   "execution_count": null,
   "metadata": {},
   "outputs": [],
   "source": []
  }
 ],
 "metadata": {
  "kernelspec": {
   "display_name": "Python 3",
   "language": "python",
   "name": "python3"
  },
  "language_info": {
   "codemirror_mode": {
    "name": "ipython",
    "version": 3
   },
   "file_extension": ".py",
   "mimetype": "text/x-python",
   "name": "python",
   "nbconvert_exporter": "python",
   "pygments_lexer": "ipython3",
   "version": "3.7.6"
  }
 },
 "nbformat": 4,
 "nbformat_minor": 4
}
