{
 "cells": [
  {
   "cell_type": "code",
   "execution_count": 3,
   "metadata": {},
   "outputs": [
    {
     "name": "stdout",
     "output_type": "stream",
     "text": [
      "Using matplotlib backend: Qt5Agg\n"
     ]
    }
   ],
   "source": [
    "###########import packages##########\n",
    "import pandas as pd\n",
    "import matplotlib.pyplot as plt\n",
    "import numpy as np\n",
    "from sklearn.model_selection import GridSearchCV\n",
    "from sklearn.model_selection import train_test_split\n",
    "from sklearn.metrics import accuracy_score\n",
    "from sklearn.metrics import classification_report\n",
    "from sklearn.model_selection import train_test_split\n",
    "from sklearn import ensemble\n",
    "from sklearn import svm\n",
    "from sklearn import neighbors\n",
    "from sklearn import tree\n",
    "from sklearn.linear_model import BayesianRidge\n",
    "from sklearn.tree import ExtraTreeRegressor\n",
    "from sklearn.tree import ExtraTreeClassifier\n",
    "from sklearn import linear_model\n",
    "import lightgbm\n",
    "import catboost\n",
    "import xgboost as xgb\n",
    "import shap\n",
    "\n",
    "from catboost import *\n",
    "%matplotlib\n",
    "###########wrapping root mean square error for later calls##########\n",
    "def compute_mae_mse_rmse(target,prediction):\n",
    "    error = []\n",
    "    for i in range(len(target)):\n",
    "        error.append(target[i] - prediction[i])\n",
    "    squaredError = []\n",
    "    absError = []\n",
    "    for val in error:\n",
    "        squaredError.append(val * val)  # target-prediction之差平方\n",
    "        absError.append(abs(val))  # 误差绝对值\n",
    "    mae=sum(absError)/len(absError)  # 平均绝对误差MAE\n",
    "    mse=sum(squaredError)/len(squaredError)  # 均方误差MSE\n",
    "    RMSE=sum(absError)/len(absError)\n",
    "    return mae,mse,RMSE\n",
    "###########loading data##########\n",
    "fdata=pd.read_csv('database_filled.csv',encoding=\"gbk\")\n",
    "raw_data=fdata.loc[:,[                      \n",
    "                       'Zn Content (wt. %)',#0\n",
    "                      'Co Cotent (wt. %)',#1\n",
    "                      'Fe Cotent (wt. %)',#2\n",
    "                      'O Content (at. %)',#4\n",
    "                      'S Content (at. %)',#5\n",
    "                      'Content of Pyridinic Species (at. %)',#5\n",
    "                      'Content of Graphitic Species (at. %)',#6\n",
    "                      'Content of Oxidized Species (at. %)',#7\n",
    "                      'Raman ID/IG Ratio',#8\n",
    "                      'BET Surface Area (m2 g-1)',#9\n",
    "                      'Micropore Ratio',#10\n",
    "                      'Mesopore Ratio',#11\n",
    "                      'Catalyst Loading on RDE/RRDE(mg cm-2)',#12\n",
    "                      'Rotating Speed (rpm)',#13\n",
    "                      'Half Wave Potential in Acid Condition (vs. RHE)'#the classification target#14\n",
    "                        ]]\n",
    "###########train test splitting##########\n",
    "raw_param=raw_data.iloc[:,0:14]\n",
    "raw_power=raw_data.iloc[:,14]\n",
    "###########fix random seed for reproducability##########\n",
    "seed=71\n",
    "X_train, X_test, y_train, y_test = train_test_split(raw_param, raw_power, test_size=.15,random_state=seed)\n",
    "y_test_values=y_test.values.astype(np.float32)\n",
    "\n",
    "########################################################\n",
    "########################################################\n",
    "###########################SHAP#########################\n",
    "########################################################\n",
    "########################################################\n",
    "\n",
    "def shap_plot(model,param):\n",
    "    print('start')\n",
    "    grid = GridSearchCV(model,param_grid=param,cv=5)\n",
    "    grid.fit(X_train,y_train)\n",
    "    best_model=grid.best_estimator_\n",
    "    result = best_model.predict(X_test)\n",
    "    x_prediction_07=result\n",
    "    y_real_07=y_test_values\n",
    "    x_prediction_07_series=pd.Series(x_prediction_07)\n",
    "    y_real_07_series=pd.Series(y_real_07)\n",
    "    ######SHAP#####\n",
    "    data_SHAP = raw_data\n",
    "    SHAP_INPUT=data_SHAP.iloc[:,0:14]\n",
    "    SHAP_OUTPUT=data_SHAP.iloc[:,14]\n",
    "    X_SHAP=SHAP_INPUT.values.astype(np.float32)\n",
    "    y_SHAP=SHAP_OUTPUT.values.astype(np.float32)\n",
    "    explainer = shap.TreeExplainer(best_model,X_SHAP)\n",
    "    cols=[ \n",
    "                          'Zn Content (wt. %)',#0\n",
    "                      'Co Cotent (wt. %)',#1\n",
    "                      'Fe Cotent (wt. %)',#2\n",
    "                      'O Content (at. %)',#4\n",
    "                      'S Content (at. %)',#5\n",
    "                      'Content of Pyridinic Species (at. %)',#5\n",
    "                      'Content of Graphitic Species (at. %)',#6\n",
    "                      'Content of Oxidized Species (at. %)',#7\n",
    "                      'Raman ID/IG Ratio',#8\n",
    "                      'BET Surface Area (m2 g-1)',#9\n",
    "                      'Micropore Ratio',#10\n",
    "                      'Mesopore Ratio',#11\n",
    "                      'Catalyst Loading on RDE/RRDE(mg cm-2)',#12\n",
    "                      'Rotating Speed (rpm)'\n",
    "                            ]\n",
    "    shap_values = explainer.shap_values(X_SHAP)\n",
    "    shap.summary_plot(shap_values, SHAP_INPUT)\n",
    "    print(type(shap_values))\n",
    "    print('finished')\n",
    "def shap_plot_CAT(model,param):\n",
    "    print('start')\n",
    "    grid = GridSearchCV(model,param_grid=param,cv=5)\n",
    "    grid.fit(X_train,y_train)\n",
    "    best_model=grid.best_estimator_\n",
    "    result = best_model.predict(X_test)\n",
    "    x_prediction_07=result\n",
    "    y_real_07=y_test_values\n",
    "    x_prediction_07_series=pd.Series(x_prediction_07)\n",
    "    y_real_07_series=pd.Series(y_real_07)\n",
    "    ######SHAP#####\n",
    "    data_SHAP = raw_data\n",
    "    SHAP_INPUT=data_SHAP.iloc[:,0:14]\n",
    "    SHAP_OUTPUT=data_SHAP.iloc[:,14]\n",
    "    X_SHAP=SHAP_INPUT.values.astype(np.float32)\n",
    "    y_SHAP=SHAP_OUTPUT.values.astype(np.float32)\n",
    "#     explainer = shap.TreeExplainer(best_model,X_SHAP)\n",
    "    cols=[ \n",
    "                         'Zn Content (wt. %)',#0\n",
    "                      'Co Cotent (wt. %)',#1\n",
    "                      'Fe Cotent (wt. %)',#2\n",
    "                      'O Content (at. %)',#4\n",
    "                      'S Content (at. %)',#5\n",
    "                      'Content of Pyridinic Species (at. %)',#5\n",
    "                      'Content of Graphitic Species (at. %)',#6\n",
    "                      'Content of Oxidized Species (at. %)',#7\n",
    "                      'Raman ID/IG Ratio',#8\n",
    "                      'BET Surface Area (m2 g-1)',#9\n",
    "                      'Micropore Ratio',#10\n",
    "                      'Mesopore Ratio',#11\n",
    "                      'Catalyst Loading on RDE/RRDE(mg cm-2)',#12\n",
    "                      'Rotating Speed (rpm)'\n",
    "                            ]\n",
    "    shap_values = best_model.get_feature_importance(Pool(X_SHAP,y_SHAP), \n",
    "                                                                     type=\"ShapValues\")\n",
    "    shap_values=shap_values[:,:-1]\n",
    "    shap.summary_plot(shap_values, SHAP_INPUT)"
   ]
  },
  {
   "cell_type": "code",
   "execution_count": 4,
   "metadata": {},
   "outputs": [
    {
     "name": "stdout",
     "output_type": "stream",
     "text": [
      "start\n",
      "<class 'numpy.ndarray'>\n",
      "finished\n"
     ]
    }
   ],
   "source": [
    "model_lgbmRegressor = lightgbm.LGBMRegressor(random_state=1)\n",
    "param_lgbm={'boosting_type': ['gbdt'], 'learning_rate': [0.02], 'n_estimators': [100], 'reg_alpha': [0], 'reg_lambda': [0.01], 'subsample': [0.5]}\n",
    "shap_plot(model_lgbmRegressor,param_lgbm)"
   ]
  },
  {
   "cell_type": "code",
   "execution_count": 5,
   "metadata": {},
   "outputs": [
    {
     "name": "stdout",
     "output_type": "stream",
     "text": [
      "start\n",
      "<class 'numpy.ndarray'>\n",
      "finished\n"
     ]
    }
   ],
   "source": [
    "model_XGBRegressor = xgb.XGBRegressor(random_state=1)\n",
    "param_xgb={'booster': ['gbtree'], 'learning_rate': [0.1], 'max_depth': [7], 'n_estimators': [800], 'reg_alpha': [0.001], 'reg_lambda': [0.01], 'subsample': [0.8]}\n",
    "shap_plot(model_XGBRegressor,param_xgb)"
   ]
  },
  {
   "cell_type": "code",
   "execution_count": 6,
   "metadata": {},
   "outputs": [
    {
     "name": "stdout",
     "output_type": "stream",
     "text": [
      "start\n"
     ]
    }
   ],
   "source": [
    "model_CatboostRegressor=catboost.CatBoostRegressor(random_state=1,verbose=0)\n",
    "param_cat = {'learning_rate': [0.1], 'max_depth': [8], 'n_estimators': [400], 'subsample': [0.6]} \n",
    "shap_plot_CAT(model_CatboostRegressor,param_cat)"
   ]
  },
  {
   "cell_type": "code",
   "execution_count": 7,
   "metadata": {},
   "outputs": [
    {
     "name": "stdout",
     "output_type": "stream",
     "text": [
      "start\n",
      "<class 'numpy.ndarray'>\n",
      "finished\n"
     ]
    }
   ],
   "source": [
    "model_GradientBoostingRegressor = ensemble.GradientBoostingRegressor(random_state=1)\n",
    "param_GB={'criterion': ['friedman_mse'], 'learning_rate': [0.01], 'loss': ['ls'], 'max_features': ['sqrt'], 'n_estimators': [400]}\n",
    "shap_plot(model_GradientBoostingRegressor,param_GB)"
   ]
  },
  {
   "cell_type": "code",
   "execution_count": 8,
   "metadata": {},
   "outputs": [
    {
     "name": "stdout",
     "output_type": "stream",
     "text": [
      "start\n"
     ]
    },
    {
     "name": "stderr",
     "output_type": "stream",
     "text": [
      " 94%|=================== | 211/225 [00:15<00:00]       "
     ]
    },
    {
     "name": "stdout",
     "output_type": "stream",
     "text": [
      "<class 'numpy.ndarray'>\n",
      "finished\n"
     ]
    }
   ],
   "source": [
    "model_RandomForestRegressor = ensemble.RandomForestRegressor(random_state=1)\n",
    "param_RF = {\n",
    "    'criterion': ['mse'], 'max_features': ['sqrt'], 'n_estimators': [800]}\n",
    "shap_plot(model_RandomForestRegressor,param_RF)"
   ]
  },
  {
   "cell_type": "code",
   "execution_count": 9,
   "metadata": {},
   "outputs": [
    {
     "name": "stdout",
     "output_type": "stream",
     "text": [
      "start\n",
      "<class 'numpy.ndarray'>\n",
      "finished\n"
     ]
    }
   ],
   "source": [
    "model_ExtraTreeRegressor = ExtraTreeRegressor(random_state=1)\n",
    "param_ET = {'criterion': ['friedman_mse'], 'max_depth': [5], 'max_features': ['auto'], 'splitter': ['random']}\n",
    "shap_plot(model_ExtraTreeRegressor,param_ET)"
   ]
  },
  {
   "cell_type": "code",
   "execution_count": 10,
   "metadata": {},
   "outputs": [
    {
     "name": "stdout",
     "output_type": "stream",
     "text": [
      "start\n",
      "<class 'numpy.ndarray'>\n",
      "finished\n"
     ]
    }
   ],
   "source": [
    "model_DecisionTreeRegressor = tree.DecisionTreeRegressor(random_state=1)\n",
    "param_DT = {\n",
    "         'criterion': ['friedman_mse'], 'max_depth': [5], 'max_features': ['auto'], 'splitter': ['random']}\n",
    "shap_plot(model_DecisionTreeRegressor,param_DT)"
   ]
  },
  {
   "cell_type": "code",
   "execution_count": 11,
   "metadata": {},
   "outputs": [
    {
     "name": "stdout",
     "output_type": "stream",
     "text": [
      "start\n",
      "<class 'numpy.ndarray'>\n",
      "finished\n"
     ]
    }
   ],
   "source": [
    "model_AdaboostRegressor=ensemble.AdaBoostRegressor(random_state=1)\n",
    "param_Ada = {'learning_rate': [0.05], 'loss': ['exponential'], 'n_estimators': [200]} \n",
    "shap_plot(model_AdaboostRegressor,param_Ada)"
   ]
  },
  {
   "cell_type": "code",
   "execution_count": null,
   "metadata": {},
   "outputs": [],
   "source": []
  }
 ],
 "metadata": {
  "kernelspec": {
   "display_name": "Python 3",
   "language": "python",
   "name": "python3"
  },
  "language_info": {
   "codemirror_mode": {
    "name": "ipython",
    "version": 3
   },
   "file_extension": ".py",
   "mimetype": "text/x-python",
   "name": "python",
   "nbconvert_exporter": "python",
   "pygments_lexer": "ipython3",
   "version": "3.7.6"
  }
 },
 "nbformat": 4,
 "nbformat_minor": 4
}
